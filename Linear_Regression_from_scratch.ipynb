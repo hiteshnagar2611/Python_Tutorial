{
  "nbformat": 4,
  "nbformat_minor": 0,
  "metadata": {
    "colab": {
      "provenance": [],
      "authorship_tag": "ABX9TyOYTpy4BMh25mYSMcup5sQT",
      "include_colab_link": true
    },
    "kernelspec": {
      "name": "python3",
      "display_name": "Python 3"
    },
    "language_info": {
      "name": "python"
    }
  },
  "cells": [
    {
      "cell_type": "markdown",
      "metadata": {
        "id": "view-in-github",
        "colab_type": "text"
      },
      "source": [
        "<a href=\"https://colab.research.google.com/github/hiteshnagar2611/Python_Tutorial/blob/main/Linear_Regression_from_scratch.ipynb\" target=\"_parent\"><img src=\"https://colab.research.google.com/assets/colab-badge.svg\" alt=\"Open In Colab\"/></a>"
      ]
    },
    {
      "cell_type": "code",
      "execution_count": 2,
      "metadata": {
        "id": "W8vB8rUaeEDh"
      },
      "outputs": [],
      "source": [
        "# import numpy library\n",
        "import numpy as np"
      ]
    },
    {
      "cell_type": "markdown",
      "source": [
        "Linear Regreation"
      ],
      "metadata": {
        "id": "p_ObPVAPeNQp"
      }
    },
    {
      "cell_type": "code",
      "source": [
        "class Linear_Regreation:\n",
        "\n",
        "  #intiating the parameters (learning rate & no. of iterations)\n",
        "  def _init_(self, learning_rate, no_of_itrations):\n",
        "    self.learning_rate = learning_rate\n",
        "    self.no_of_itrations = no_of_itrations\n",
        "\n",
        "  def fit(self, X, Y):\n",
        "    # number of traning examples and number of featurs\n",
        "    self.m, self.n = X.shape  # number of rows & columns\n",
        "\n",
        "    # insiating the weight and bias\n",
        "    self.w = np.zeros(self.n)\n",
        "    self.b = 0\n",
        "    self.X = X\n",
        "    self.Y = Y\n",
        "\n",
        "    # implemanting Gradient Descent\n",
        "    for i in range(self.no_of_itrations):\n",
        "      self.upadte_weights()\n",
        "\n",
        "  def update_weights(self, ):\n",
        "    Y_prediction = self.predict(self.x)\n",
        "\n",
        "    # calculating gradients\n",
        "\n",
        "    dw = - (2*(self.X.T).dot(self.Y - self.Y_prediction)) / self.m\n",
        "    db = -2 * np.sum(self.Y - Y_prediction) / self.m\n",
        "\n",
        "    # updating the weights\n",
        "    self.w = self.w - self.learning_rate * dw\n",
        "    self.b = self.b - self.learning_rate * db\n",
        "\n",
        "  def predict(self, X):\n",
        "    return X.dot(self.w) + self.b\n"
      ],
      "metadata": {
        "id": "7t4lDBBmeHNR"
      },
      "execution_count": null,
      "outputs": []
    },
    {
      "cell_type": "code",
      "source": [],
      "metadata": {
        "id": "cPskBOqRnLAd"
      },
      "execution_count": null,
      "outputs": []
    }
  ]
}