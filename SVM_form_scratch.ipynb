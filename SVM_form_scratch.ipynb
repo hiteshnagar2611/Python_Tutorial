{
  "nbformat": 4,
  "nbformat_minor": 0,
  "metadata": {
    "colab": {
      "provenance": [],
      "authorship_tag": "ABX9TyP32HuSb2D72Qq9qffNa3U4",
      "include_colab_link": true
    },
    "kernelspec": {
      "name": "python3",
      "display_name": "Python 3"
    },
    "language_info": {
      "name": "python"
    }
  },
  "cells": [
    {
      "cell_type": "markdown",
      "metadata": {
        "id": "view-in-github",
        "colab_type": "text"
      },
      "source": [
        "<a href=\"https://colab.research.google.com/github/hiteshnagar2611/Python_Tutorial/blob/main/SVM_form_scratch.ipynb\" target=\"_parent\"><img src=\"https://colab.research.google.com/assets/colab-badge.svg\" alt=\"Open In Colab\"/></a>"
      ]
    },
    {
      "cell_type": "code",
      "execution_count": 1,
      "metadata": {
        "id": "S89vE7OzovDL"
      },
      "outputs": [],
      "source": [
        "import numpy as np"
      ]
    },
    {
      "cell_type": "markdown",
      "source": [
        "Support vector machine classifier"
      ],
      "metadata": {
        "id": "x7NiKOWzp91V"
      }
    },
    {
      "cell_type": "code",
      "source": [
        "class svm_classifier():\n",
        "\n",
        "  #insiating the hyperpara meters\n",
        "  def __intit__(self, learnin_rate, no_of_iterations, lambda_parameter):\n",
        "    self.learning_rate = learnin_rate\n",
        "    self.no_of_iterations = no_of_iterations\n",
        "    self.lambda_parameter = lambda_parameter\n",
        "\n",
        "  # fitting the dataset to svm classifier\n",
        "  def fit(self, X, Y):\n",
        "    # m --> no of data points --> number of rows\n",
        "    # n --> no of input features --> numbers of colums\n",
        "    self.m, self.n = X.shape\n",
        "\n",
        "    #insiating the weight value and bias value\n",
        "    self.w = np.zeros(self.n)\n",
        "    self.b = 0\n",
        "    self.X = X\n",
        "    self.Y = Y\n",
        "\n",
        "    #implemanting Gradient Descent algorithm for Optimization\n",
        "    for i in range(self.no_of_iterations):\n",
        "      self.update_weights()\n",
        "\n",
        "\n",
        "  # function to updating weight and bias value\n",
        "  def update_weights(self,):\n",
        "    #lable encoding\n",
        "    Y_lable = np.where(self.Y<=0, -1, 1)\n",
        "\n",
        "    for index, X_i in enumerate(self.X):\n",
        "      condition = Y_lable[index] * (np.dot(X_i, self.w) - self.b) >= -1\n",
        "\n",
        "      if(condition == True):\n",
        "        dw = 2*self.lambda_parameter * self.w\n",
        "        db = 0\n",
        "      else:\n",
        "        dw = 2*self.lambda_parameter * self.w - np.dot(X_i, Y_lable[index])\n",
        "        db = Y_lable[index]\n",
        "\n",
        "      self.w = self.w - self.learning_rate * dw\n",
        "      self.b = self.b - self.learning_rate * db\n",
        "\n",
        "\n",
        "\n",
        "\n",
        "  #predict the lable for a given input value\n",
        "  def predict(self, X):\n",
        "    output = np.dot(X, self.w) - self.b\n",
        "    predicted_labels = np.sign(output)\n",
        "    Y_hat = np.where(predicted_labels <= -1,0,1)\n",
        "    return Y_hat"
      ],
      "metadata": {
        "id": "VWDKNIshp7eq"
      },
      "execution_count": null,
      "outputs": []
    },
    {
      "cell_type": "markdown",
      "source": [],
      "metadata": {
        "id": "jJCfsmKrp8yu"
      }
    }
  ]
}