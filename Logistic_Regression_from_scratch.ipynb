{
  "nbformat": 4,
  "nbformat_minor": 0,
  "metadata": {
    "colab": {
      "provenance": [],
      "authorship_tag": "ABX9TyNb9N+hStgAlaAVld+Ow826",
      "include_colab_link": true
    },
    "kernelspec": {
      "name": "python3",
      "display_name": "Python 3"
    },
    "language_info": {
      "name": "python"
    }
  },
  "cells": [
    {
      "cell_type": "markdown",
      "metadata": {
        "id": "view-in-github",
        "colab_type": "text"
      },
      "source": [
        "<a href=\"https://colab.research.google.com/github/hiteshnagar2611/Python_Tutorial/blob/main/Logistic_Regression_from_scratch.ipynb\" target=\"_parent\"><img src=\"https://colab.research.google.com/assets/colab-badge.svg\" alt=\"Open In Colab\"/></a>"
      ]
    },
    {
      "cell_type": "code",
      "source": [
        "import numpy as np"
      ],
      "metadata": {
        "id": "tdXWYW5iuL8_"
      },
      "execution_count": 1,
      "outputs": []
    },
    {
      "cell_type": "code",
      "execution_count": 2,
      "metadata": {
        "id": "f-1vpDk_ea8f"
      },
      "outputs": [],
      "source": [
        "class Logistic_Regression():\n",
        "\n",
        "  # declaring learning rate  & number of iterations (Hyperparameters)\n",
        "  def __init__(self, learning_rate, no_of_iterations):\n",
        "\n",
        "    self.learning_rate = learning_rate\n",
        "    self.no_of_itreations = no_of_iterations\n",
        "\n",
        "\n",
        "  # fit function to train the model with dataset\n",
        "  def fit(self, X , Y):\n",
        "\n",
        "    # number of data points in the dataset (number of rows) --> m\n",
        "    # numbers of input features in the dataset (number of colums) --> n\n",
        "    self.m, self.n = X.shape\n",
        "\n",
        "    # initiating weight & bias value\n",
        "    self.w = np.zeros(self.n)\n",
        "    self.b = 0\n",
        "    self.X = X\n",
        "    self.Y = Y\n",
        "\n",
        "    # implemanting gradient descent for optimixation\n",
        "    for i in range(no_of_iterations):\n",
        "      self.update_weights();\n",
        "\n",
        "\n",
        "  def update_weights(self):\n",
        "\n",
        "    #Y_hat formula (sigmoid function)\n",
        "\n",
        "    Y_hat = 1 / (1 + np.exp(-(self.X.dot(self.w) + self.b)))   # w.X+b\n",
        "\n",
        "    # derivatives\n",
        "\n",
        "    dw = (1/self.m)*np.dot(self.x.T, (Y_hat - self.Y))\n",
        "    db = (1/self.m)*np.sum(Y_hat - self.Y)\n",
        "\n",
        "    # updating the weights and Bais using gradient descent\n",
        "\n",
        "    self.w = self.w - self.learning_rate * dw\n",
        "    self.b = self.b - self.learning_rate * db\n",
        "\n",
        "  # Sigmoid Equation & Decision Boundary\n",
        "  def predict(self, X):\n",
        "    Y_pred = 1 / (1 + np.exp(-(self.X.dot(self.w) + self.b)))\n",
        "    Y_pred = np.where(Y_pred > 0.5, 1, 0)\n",
        "    return Y_pred\n",
        "\n",
        "\n"
      ]
    },
    {
      "cell_type": "code",
      "source": [
        "# importing dependencies\n"
      ],
      "metadata": {
        "id": "Tq_TWhLQuSMH"
      },
      "execution_count": null,
      "outputs": []
    }
  ]
}