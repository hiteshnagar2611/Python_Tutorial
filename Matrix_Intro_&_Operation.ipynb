{
  "nbformat": 4,
  "nbformat_minor": 0,
  "metadata": {
    "colab": {
      "provenance": [],
      "authorship_tag": "ABX9TyPWVq5JKjt9plo8uHjCkBxs",
      "include_colab_link": true
    },
    "kernelspec": {
      "name": "python3",
      "display_name": "Python 3"
    },
    "language_info": {
      "name": "python"
    }
  },
  "cells": [
    {
      "cell_type": "markdown",
      "metadata": {
        "id": "view-in-github",
        "colab_type": "text"
      },
      "source": [
        "<a href=\"https://colab.research.google.com/github/hiteshnagar2611/Python_Tutorial/blob/main/Matrix_Intro_%26_Operation.ipynb\" target=\"_parent\"><img src=\"https://colab.research.google.com/assets/colab-badge.svg\" alt=\"Open In Colab\"/></a>"
      ]
    },
    {
      "cell_type": "code",
      "execution_count": 1,
      "metadata": {
        "id": "qIuoRyxd6mCI"
      },
      "outputs": [],
      "source": [
        "import numpy as np\n"
      ]
    },
    {
      "cell_type": "markdown",
      "source": [
        "Creating a matrix using numpy"
      ],
      "metadata": {
        "id": "6KAbCmPmCPGB"
      }
    },
    {
      "cell_type": "code",
      "source": [
        "matrix_1 = np.array([[2,3],[6,7]])\n",
        "print(matrix_1)"
      ],
      "metadata": {
        "colab": {
          "base_uri": "https://localhost:8080/"
        },
        "id": "nafHieKwCNE-",
        "outputId": "b21806ab-0295-4d6a-b106-e641ed7fd758"
      },
      "execution_count": 5,
      "outputs": [
        {
          "output_type": "stream",
          "name": "stdout",
          "text": [
            "[[2 3]\n",
            " [6 7]]\n"
          ]
        }
      ]
    },
    {
      "cell_type": "code",
      "source": [
        "matrix_1.shape"
      ],
      "metadata": {
        "colab": {
          "base_uri": "https://localhost:8080/"
        },
        "id": "rKnyOUJYChVJ",
        "outputId": "67aafb68-8d30-4fe6-e98b-a04b66f50b67"
      },
      "execution_count": 6,
      "outputs": [
        {
          "output_type": "execute_result",
          "data": {
            "text/plain": [
              "(2, 2)"
            ]
          },
          "metadata": {},
          "execution_count": 6
        }
      ]
    },
    {
      "cell_type": "code",
      "source": [
        "matrix_2 = np.array([[10,35,45],[50,64,80],[20,15,19]])\n",
        "print(matrix_2)"
      ],
      "metadata": {
        "colab": {
          "base_uri": "https://localhost:8080/"
        },
        "id": "LdsnmooHCt1J",
        "outputId": "a651b286-6c01-4822-8c62-62d87b1c49c6"
      },
      "execution_count": 7,
      "outputs": [
        {
          "output_type": "stream",
          "name": "stdout",
          "text": [
            "[[10 35 45]\n",
            " [50 64 80]\n",
            " [20 15 19]]\n"
          ]
        }
      ]
    },
    {
      "cell_type": "code",
      "source": [
        "matrix_2.shape"
      ],
      "metadata": {
        "colab": {
          "base_uri": "https://localhost:8080/"
        },
        "id": "ybboY4p4DKKQ",
        "outputId": "af9f5d3f-1c0b-4cf9-9cb8-b7f202c783f7"
      },
      "execution_count": 8,
      "outputs": [
        {
          "output_type": "execute_result",
          "data": {
            "text/plain": [
              "(3, 3)"
            ]
          },
          "metadata": {},
          "execution_count": 8
        }
      ]
    },
    {
      "cell_type": "markdown",
      "source": [
        "Creating matrix with randome values"
      ],
      "metadata": {
        "id": "PM7H2mXuDR7J"
      }
    },
    {
      "cell_type": "code",
      "source": [
        "random_matrix = np.random.rand(3,3)\n",
        "print(random_matrix)"
      ],
      "metadata": {
        "colab": {
          "base_uri": "https://localhost:8080/"
        },
        "id": "ionZAYCLDPhZ",
        "outputId": "4b2edef8-606e-4357-d4b5-915f38adae4f"
      },
      "execution_count": 9,
      "outputs": [
        {
          "output_type": "stream",
          "name": "stdout",
          "text": [
            "[[0.01615819 0.12452704 0.81631987]\n",
            " [0.32168523 0.28007624 0.3716833 ]\n",
            " [0.25459236 0.82785088 0.25236657]]\n"
          ]
        }
      ]
    },
    {
      "cell_type": "code",
      "source": [
        "random_integer_matrix = np.random.randint(10, size=(3,3))\n",
        "print(random_integer_matrix)"
      ],
      "metadata": {
        "colab": {
          "base_uri": "https://localhost:8080/"
        },
        "id": "QZinlba4DlFa",
        "outputId": "216c7f5f-c7af-4c33-a6bb-61f8fa8934d5"
      },
      "execution_count": 13,
      "outputs": [
        {
          "output_type": "stream",
          "name": "stdout",
          "text": [
            "[[2 0 2]\n",
            " [3 1 8]\n",
            " [9 7 8]]\n"
          ]
        }
      ]
    },
    {
      "cell_type": "markdown",
      "source": [
        "Matrix with all the values 1"
      ],
      "metadata": {
        "id": "NMOKamG6EONS"
      }
    },
    {
      "cell_type": "code",
      "source": [
        "matrix_3 = np.ones((2,3))\n",
        "print(matrix_3)"
      ],
      "metadata": {
        "colab": {
          "base_uri": "https://localhost:8080/"
        },
        "id": "6vbuCgm_D2sM",
        "outputId": "27fa00ce-2802-490c-afe7-17ad4c2d781c"
      },
      "execution_count": 14,
      "outputs": [
        {
          "output_type": "stream",
          "name": "stdout",
          "text": [
            "[[1. 1. 1.]\n",
            " [1. 1. 1.]]\n"
          ]
        }
      ]
    },
    {
      "cell_type": "code",
      "source": [
        "matrix_3 = np.ones((4,4), dtype=int)\n",
        "print(matrix_3)"
      ],
      "metadata": {
        "colab": {
          "base_uri": "https://localhost:8080/"
        },
        "id": "bmcsCGTMEYUl",
        "outputId": "56ed2b93-098b-420e-9856-7064a1ff88c8"
      },
      "execution_count": 16,
      "outputs": [
        {
          "output_type": "stream",
          "name": "stdout",
          "text": [
            "[[1 1 1 1]\n",
            " [1 1 1 1]\n",
            " [1 1 1 1]\n",
            " [1 1 1 1]]\n"
          ]
        }
      ]
    },
    {
      "cell_type": "markdown",
      "source": [
        "MAtrix of all values 0 (Null Matrix or Zero Matrix)"
      ],
      "metadata": {
        "id": "4QgbeqPOEyqi"
      }
    },
    {
      "cell_type": "code",
      "source": [
        "null_matrix = np.zeros((4,4))\n",
        "print(null_matrix)"
      ],
      "metadata": {
        "colab": {
          "base_uri": "https://localhost:8080/"
        },
        "id": "yiabBOuAEu-Q",
        "outputId": "8d535c7c-b1a8-46bf-ee8e-afdda0a72f1b"
      },
      "execution_count": 17,
      "outputs": [
        {
          "output_type": "stream",
          "name": "stdout",
          "text": [
            "[[0. 0. 0. 0.]\n",
            " [0. 0. 0. 0.]\n",
            " [0. 0. 0. 0.]\n",
            " [0. 0. 0. 0.]]\n"
          ]
        }
      ]
    },
    {
      "cell_type": "markdown",
      "source": [
        "Identity Matrix"
      ],
      "metadata": {
        "id": "8_hfsjCbFGcE"
      }
    },
    {
      "cell_type": "code",
      "source": [
        "identity_matrix = np.eye(4,4)\n",
        "print(identity_matrix)"
      ],
      "metadata": {
        "colab": {
          "base_uri": "https://localhost:8080/"
        },
        "id": "4F73N4hCFEah",
        "outputId": "caba3fe4-3edd-41f6-d977-6ab57384da2b"
      },
      "execution_count": 20,
      "outputs": [
        {
          "output_type": "stream",
          "name": "stdout",
          "text": [
            "[[1. 0. 0. 0.]\n",
            " [0. 1. 0. 0.]\n",
            " [0. 0. 1. 0.]\n",
            " [0. 0. 0. 1.]]\n"
          ]
        }
      ]
    },
    {
      "cell_type": "markdown",
      "source": [
        "Transpose of Matrix"
      ],
      "metadata": {
        "id": "L-f7EDB-Fj11"
      }
    },
    {
      "cell_type": "code",
      "source": [
        "a = np.random.randint(20, size=(4,4))\n",
        "print(a)"
      ],
      "metadata": {
        "colab": {
          "base_uri": "https://localhost:8080/"
        },
        "id": "wDjS3zViFTj5",
        "outputId": "2d8d286f-fb5e-41c1-80fb-b33e494d096b"
      },
      "execution_count": 21,
      "outputs": [
        {
          "output_type": "stream",
          "name": "stdout",
          "text": [
            "[[14 14 16  6]\n",
            " [14  4 15 18]\n",
            " [13 12 15 11]\n",
            " [ 6 12 12  1]]\n"
          ]
        }
      ]
    },
    {
      "cell_type": "code",
      "source": [
        "transpose_of_a = np.transpose(a)\n",
        "print(transpose_of_a)"
      ],
      "metadata": {
        "colab": {
          "base_uri": "https://localhost:8080/"
        },
        "id": "-VcjAydjGJXK",
        "outputId": "8cb6f486-e806-463b-f875-3dbc01eef893"
      },
      "execution_count": 22,
      "outputs": [
        {
          "output_type": "stream",
          "name": "stdout",
          "text": [
            "[[14 14 13  6]\n",
            " [14  4 12 12]\n",
            " [16 15 15 12]\n",
            " [ 6 18 11  1]]\n"
          ]
        }
      ]
    },
    {
      "cell_type": "markdown",
      "source": [
        "**Matrix Operations**"
      ],
      "metadata": {
        "id": "y2XMulTUG2F0"
      }
    },
    {
      "cell_type": "markdown",
      "source": [
        "1. Matrix addition"
      ],
      "metadata": {
        "id": "OXcsQX6dG76_"
      }
    },
    {
      "cell_type": "code",
      "source": [
        "a = np.array([[2,3],[4,5]])\n",
        "b = np.array([[6,7],[8,9]])"
      ],
      "metadata": {
        "id": "xd4nEcmXGaGn"
      },
      "execution_count": 26,
      "outputs": []
    },
    {
      "cell_type": "code",
      "source": [
        "print(a)"
      ],
      "metadata": {
        "colab": {
          "base_uri": "https://localhost:8080/"
        },
        "id": "INRV9ctBHi8E",
        "outputId": "693d7edd-235c-4129-9451-9076dc66b366"
      },
      "execution_count": 27,
      "outputs": [
        {
          "output_type": "stream",
          "name": "stdout",
          "text": [
            "[[2 3]\n",
            " [4 5]]\n"
          ]
        }
      ]
    },
    {
      "cell_type": "code",
      "source": [
        "print(b)"
      ],
      "metadata": {
        "colab": {
          "base_uri": "https://localhost:8080/"
        },
        "id": "30itcZPhHzbO",
        "outputId": "9a2676ac-d35a-44ec-d8e7-a491531faf20"
      },
      "execution_count": 28,
      "outputs": [
        {
          "output_type": "stream",
          "name": "stdout",
          "text": [
            "[[6 7]\n",
            " [8 9]]\n"
          ]
        }
      ]
    },
    {
      "cell_type": "code",
      "source": [
        "a.shape"
      ],
      "metadata": {
        "colab": {
          "base_uri": "https://localhost:8080/"
        },
        "id": "g5gj1FUOH06R",
        "outputId": "1bf095e2-d73e-45d3-e9e2-7ac3c1463198"
      },
      "execution_count": 29,
      "outputs": [
        {
          "output_type": "execute_result",
          "data": {
            "text/plain": [
              "(2, 2)"
            ]
          },
          "metadata": {},
          "execution_count": 29
        }
      ]
    },
    {
      "cell_type": "code",
      "source": [
        "b.shape"
      ],
      "metadata": {
        "colab": {
          "base_uri": "https://localhost:8080/"
        },
        "id": "ZYl9QhjrH3u1",
        "outputId": "3944c344-d23b-4c80-e094-ecee1bcf00c9"
      },
      "execution_count": 30,
      "outputs": [
        {
          "output_type": "execute_result",
          "data": {
            "text/plain": [
              "(2, 2)"
            ]
          },
          "metadata": {},
          "execution_count": 30
        }
      ]
    },
    {
      "cell_type": "code",
      "source": [
        "sum = a+b\n",
        "print(sum)"
      ],
      "metadata": {
        "colab": {
          "base_uri": "https://localhost:8080/"
        },
        "id": "LsFjgiZWH4q7",
        "outputId": "6baa6238-12b8-4607-f66c-5984a5c5da3c"
      },
      "execution_count": 31,
      "outputs": [
        {
          "output_type": "stream",
          "name": "stdout",
          "text": [
            "[[ 8 10]\n",
            " [12 14]]\n"
          ]
        }
      ]
    },
    {
      "cell_type": "code",
      "source": [
        "a1 = np.random.randint(10, size=(3,3))\n",
        "b1 = np.random.randint(20, size=(3,3))\n",
        "print(a1)\n",
        "print(b1)\n",
        "\n",
        "sum1 = a1+b1\n",
        "print(sum1)"
      ],
      "metadata": {
        "colab": {
          "base_uri": "https://localhost:8080/"
        },
        "id": "YUp6A91dH8cB",
        "outputId": "96bce7d0-8da4-4714-b41e-d63af87c30bc"
      },
      "execution_count": 32,
      "outputs": [
        {
          "output_type": "stream",
          "name": "stdout",
          "text": [
            "[[8 9 8]\n",
            " [5 1 7]\n",
            " [7 8 9]]\n",
            "[[16  7 14]\n",
            " [ 5  1 17]\n",
            " [13  0  8]]\n",
            "[[24 16 22]\n",
            " [10  2 24]\n",
            " [20  8 17]]\n"
          ]
        }
      ]
    },
    {
      "cell_type": "code",
      "source": [
        "# gives ERROR because both size of matrix is not same 3X2 and 3X3\n",
        "a1 = np.random.randint(10, size=(3,2))\n",
        "b1 = np.random.randint(20, size=(3,3))\n",
        "print(a1)\n",
        "print(b1)\n",
        "\n",
        "sum1 = a1+b1\n",
        "print(sum1)"
      ],
      "metadata": {
        "colab": {
          "base_uri": "https://localhost:8080/",
          "height": 297
        },
        "id": "dsGDvSCQIee3",
        "outputId": "5e40460f-11cc-4d77-c724-31d764a67bf4"
      },
      "execution_count": 33,
      "outputs": [
        {
          "output_type": "stream",
          "name": "stdout",
          "text": [
            "[[8 9]\n",
            " [3 1]\n",
            " [5 1]]\n",
            "[[ 7 10  1]\n",
            " [10 13  0]\n",
            " [18 12 15]]\n"
          ]
        },
        {
          "output_type": "error",
          "ename": "ValueError",
          "evalue": "operands could not be broadcast together with shapes (3,2) (3,3) ",
          "traceback": [
            "\u001b[0;31m---------------------------------------------------------------------------\u001b[0m",
            "\u001b[0;31mValueError\u001b[0m                                Traceback (most recent call last)",
            "\u001b[0;32m/tmp/ipython-input-471776658.py\u001b[0m in \u001b[0;36m<cell line: 0>\u001b[0;34m()\u001b[0m\n\u001b[1;32m      4\u001b[0m \u001b[0mprint\u001b[0m\u001b[0;34m(\u001b[0m\u001b[0mb1\u001b[0m\u001b[0;34m)\u001b[0m\u001b[0;34m\u001b[0m\u001b[0;34m\u001b[0m\u001b[0m\n\u001b[1;32m      5\u001b[0m \u001b[0;34m\u001b[0m\u001b[0m\n\u001b[0;32m----> 6\u001b[0;31m \u001b[0msum1\u001b[0m \u001b[0;34m=\u001b[0m \u001b[0ma1\u001b[0m\u001b[0;34m+\u001b[0m\u001b[0mb1\u001b[0m\u001b[0;34m\u001b[0m\u001b[0;34m\u001b[0m\u001b[0m\n\u001b[0m\u001b[1;32m      7\u001b[0m \u001b[0mprint\u001b[0m\u001b[0;34m(\u001b[0m\u001b[0msum1\u001b[0m\u001b[0;34m)\u001b[0m\u001b[0;34m\u001b[0m\u001b[0;34m\u001b[0m\u001b[0m\n",
            "\u001b[0;31mValueError\u001b[0m: operands could not be broadcast together with shapes (3,2) (3,3) "
          ]
        }
      ]
    },
    {
      "cell_type": "markdown",
      "source": [
        "2. Matrix Subtraction"
      ],
      "metadata": {
        "id": "9E1QYPBgI2ls"
      }
    },
    {
      "cell_type": "code",
      "source": [
        "a2 = np.random.randint(10, size=(3,3))\n",
        "b2 = np.random.randint(20, size=(3,3))\n",
        "print(a2)\n",
        "print(b2)\n",
        "\n",
        "sub = a2 - b2\n",
        "print(sub)"
      ],
      "metadata": {
        "colab": {
          "base_uri": "https://localhost:8080/"
        },
        "id": "ua-d4vXgInSY",
        "outputId": "df2d0be4-c09a-47a3-f0d5-8f8259d9c69a"
      },
      "execution_count": 35,
      "outputs": [
        {
          "output_type": "stream",
          "name": "stdout",
          "text": [
            "[[5 1 4]\n",
            " [1 0 2]\n",
            " [3 4 6]]\n",
            "[[10  1 17]\n",
            " [ 2 10 12]\n",
            " [ 8 13  3]]\n",
            "[[ -5   0 -13]\n",
            " [ -1 -10 -10]\n",
            " [ -5  -9   3]]\n"
          ]
        }
      ]
    },
    {
      "cell_type": "markdown",
      "source": [
        "3. Multiplication by a scaler"
      ],
      "metadata": {
        "id": "I72un4lzJKPn"
      }
    },
    {
      "cell_type": "code",
      "source": [
        "a3 = np.random.randint(10, size=(3,3))\n",
        "print(a3)\n",
        "\n",
        "multiply_by_scaler =  4 * a3\n",
        "print(multiply_by_scaler)"
      ],
      "metadata": {
        "colab": {
          "base_uri": "https://localhost:8080/"
        },
        "id": "qsO2da3IJFHb",
        "outputId": "fb2a88ec-aab7-4e3d-f19d-ce09366c61eb"
      },
      "execution_count": 37,
      "outputs": [
        {
          "output_type": "stream",
          "name": "stdout",
          "text": [
            "[[4 6 2]\n",
            " [3 1 6]\n",
            " [3 7 3]]\n",
            "[[16 24  8]\n",
            " [12  4 24]\n",
            " [12 28 12]]\n"
          ]
        }
      ]
    },
    {
      "cell_type": "markdown",
      "source": [
        "4. Multiplication"
      ],
      "metadata": {
        "id": "-gP3HKwTJpz4"
      }
    },
    {
      "cell_type": "code",
      "source": [
        "a4 = np.random.randint(10, size=(3,3))\n",
        "b4 = np.random.randint(20, size=(3,3))\n",
        "print(a4)\n",
        "print(b4)\n",
        "\n",
        "multi = a4 * b4\n",
        "print(multi)"
      ],
      "metadata": {
        "colab": {
          "base_uri": "https://localhost:8080/"
        },
        "id": "4X6LTxgoJebW",
        "outputId": "a927bcc4-fef9-4731-ea1d-579d7ba394ba"
      },
      "execution_count": 38,
      "outputs": [
        {
          "output_type": "stream",
          "name": "stdout",
          "text": [
            "[[2 2 5]\n",
            " [0 6 2]\n",
            " [2 7 2]]\n",
            "[[ 1 18  0]\n",
            " [ 7 13  2]\n",
            " [13 10 16]]\n",
            "[[ 2 36  0]\n",
            " [ 0 78  4]\n",
            " [26 70 32]]\n"
          ]
        }
      ]
    },
    {
      "cell_type": "code",
      "source": [
        "# Gives ERROR because column of first matrix is not eqaul to row of second matrix\n",
        "a4 = np.random.randint(10, size=(3,4))\n",
        "b4 = np.random.randint(20, size=(3,3))\n",
        "print(a4)\n",
        "print(b4)\n",
        "\n",
        "multi = a4 * b4\n",
        "print(multi)"
      ],
      "metadata": {
        "colab": {
          "base_uri": "https://localhost:8080/",
          "height": 297
        },
        "id": "4bxZpIy_J1vS",
        "outputId": "09af68e6-e85c-4639-e7f0-8c1acc989518"
      },
      "execution_count": 39,
      "outputs": [
        {
          "output_type": "stream",
          "name": "stdout",
          "text": [
            "[[5 5 8 2]\n",
            " [0 4 1 1]\n",
            " [2 7 8 4]]\n",
            "[[16 14 10]\n",
            " [ 9 12  4]\n",
            " [16  9  8]]\n"
          ]
        },
        {
          "output_type": "error",
          "ename": "ValueError",
          "evalue": "operands could not be broadcast together with shapes (3,4) (3,3) ",
          "traceback": [
            "\u001b[0;31m---------------------------------------------------------------------------\u001b[0m",
            "\u001b[0;31mValueError\u001b[0m                                Traceback (most recent call last)",
            "\u001b[0;32m/tmp/ipython-input-1893888788.py\u001b[0m in \u001b[0;36m<cell line: 0>\u001b[0;34m()\u001b[0m\n\u001b[1;32m      5\u001b[0m \u001b[0mprint\u001b[0m\u001b[0;34m(\u001b[0m\u001b[0mb4\u001b[0m\u001b[0;34m)\u001b[0m\u001b[0;34m\u001b[0m\u001b[0;34m\u001b[0m\u001b[0m\n\u001b[1;32m      6\u001b[0m \u001b[0;34m\u001b[0m\u001b[0m\n\u001b[0;32m----> 7\u001b[0;31m \u001b[0mmulti\u001b[0m \u001b[0;34m=\u001b[0m \u001b[0ma4\u001b[0m \u001b[0;34m*\u001b[0m \u001b[0mb4\u001b[0m\u001b[0;34m\u001b[0m\u001b[0;34m\u001b[0m\u001b[0m\n\u001b[0m\u001b[1;32m      8\u001b[0m \u001b[0mprint\u001b[0m\u001b[0;34m(\u001b[0m\u001b[0mmulti\u001b[0m\u001b[0;34m)\u001b[0m\u001b[0;34m\u001b[0m\u001b[0;34m\u001b[0m\u001b[0m\n",
            "\u001b[0;31mValueError\u001b[0m: operands could not be broadcast together with shapes (3,4) (3,3) "
          ]
        }
      ]
    },
    {
      "cell_type": "code",
      "source": [],
      "metadata": {
        "id": "OtKN3D8EKJVV"
      },
      "execution_count": null,
      "outputs": []
    }
  ]
}