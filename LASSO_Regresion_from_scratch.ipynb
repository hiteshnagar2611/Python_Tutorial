{
  "nbformat": 4,
  "nbformat_minor": 0,
  "metadata": {
    "colab": {
      "provenance": [],
      "authorship_tag": "ABX9TyPxCU1VYyF9vJl0Ktiv7ibQ",
      "include_colab_link": true
    },
    "kernelspec": {
      "name": "python3",
      "display_name": "Python 3"
    },
    "language_info": {
      "name": "python"
    }
  },
  "cells": [
    {
      "cell_type": "markdown",
      "metadata": {
        "id": "view-in-github",
        "colab_type": "text"
      },
      "source": [
        "<a href=\"https://colab.research.google.com/github/hiteshnagar2611/Python_Tutorial/blob/main/LASSO_Regresion_from_scratch.ipynb\" target=\"_parent\"><img src=\"https://colab.research.google.com/assets/colab-badge.svg\" alt=\"Open In Colab\"/></a>"
      ]
    },
    {
      "cell_type": "code",
      "execution_count": 1,
      "metadata": {
        "id": "5Rkj6t4Hhaws"
      },
      "outputs": [],
      "source": [
        "import numpy as np\n"
      ]
    },
    {
      "cell_type": "markdown",
      "source": [
        "LASSO Regresion\n"
      ],
      "metadata": {
        "id": "NUOZ75eGh8dl"
      }
    },
    {
      "cell_type": "code",
      "source": [
        "class lasso_regresion():\n",
        "\n",
        "  #initiating the hyperparameters\n",
        "  def __init__(self, learning_rate, no_of_iterations, lambda_parameter ):\n",
        "\n",
        "    self.learning_rate = learning_rate\n",
        "    self.no_of_iterations = no_of_iterations\n",
        "    self.lambda_parameter = lambda_parameter\n",
        "\n",
        "  # fitting the dataset to the lasso regression model\n",
        "  def fit(self,X,Y):\n",
        "\n",
        "    # m --> number of data points --> number of rows\n",
        "    # n --> number of features --> number of colums\n",
        "    self.m, self.n = X.shape\n",
        "    self.w = np.zeros(self.n)\n",
        "    self.b = 0\n",
        "    self.X = X\n",
        "    self.Y = Y\n",
        "\n",
        "    #implementing the gardient decent algoritham for optimization\n",
        "    for i in range(no_of_iterations):\n",
        "      self.update_waights()\n",
        "\n",
        "\n",
        "  #function for updating the weight & bias value\n",
        "  def update_waights(self):\n",
        "\n",
        "    # linear equation of the model\n",
        "    Y_prediction = self.predict(self.X)\n",
        "\n",
        "    # gradients (dw , db)\n",
        "\n",
        "    #gradient for weight\n",
        "    dw = np.zeros(self.n)\n",
        "\n",
        "    for i in range(self.n):\n",
        "      if self.w[i]>0:\n",
        "        dw[i] = (-(2*(self.X[:,i]).dot(self.Y - Y_prediction )) + self.lambda_parameter) / m\n",
        "\n",
        "      else:\n",
        "        dw[i] = (-(2*(self.X[:,i]).dot(self.Y - Y_prediction )) - self.lambda_parameter) / m\n",
        "\n",
        "    # gardient for bais\n",
        "    db = -2 * np.sum(self.Y - Y_prediction) / self.m\n",
        "\n",
        "    # updating weights and bais\n",
        "\n",
        "    self.w = self.w - self.learning_rate * dw\n",
        "    self.b = self.b - self.learning_rate * db\n",
        "\n",
        "  def predict(self, X):\n",
        "    return X.dot(self.w)+self.b\n",
        "\n"
      ],
      "metadata": {
        "id": "CpStZF0Vh7ny"
      },
      "execution_count": 4,
      "outputs": []
    },
    {
      "cell_type": "code",
      "source": [],
      "metadata": {
        "id": "_1xNZ0j6pDdS"
      },
      "execution_count": 3,
      "outputs": []
    }
  ]
}